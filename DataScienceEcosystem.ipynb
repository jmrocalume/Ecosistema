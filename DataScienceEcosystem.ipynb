{
 "cells": [
  {
   "cell_type": "markdown",
   "metadata": {},
   "source": [
    "<center>\n",
    "    <img src=\"https://cf-courses-data.s3.us.cloud-object-storage.appdomain.cloud/IBMDeveloperSkillsNetwork-DS0105EN-SkillsNetwork/labs/Module2/images/SN_web_lightmode.png\" width=\"300\" alt=\"cognitiveclass.ai logo\">\n",
    "</center>\n"
   ]
  },
  {
   "cell_type": "markdown",
   "metadata": {
    "tags": []
   },
   "source": [
    "# Data Science Tools and Ecosystem\n"
   ]
  },
  {
   "cell_type": "markdown",
   "metadata": {},
   "source": [
    "In this notebook, Data Science Tools and Ecosystem are summarized.\n"
   ]
  },
  {
   "cell_type": "markdown",
   "metadata": {},
   "source": [
    "## Lenguajes populares en Ciencia de Datos\n",
    "\n",
    "Algunos de los lenguajes más utilizados por los científicos de datos son:\n",
    "\n",
    "1. **Python:** Python es ampliamente utilizado en la comunidad de ciencia de datos debido a su versatilidad, bibliotecas robustas (como NumPy, pandas y scikit-learn) y facilidad de uso.\n",
    "\n",
    "2. **R:** R es otro lenguaje popular para análisis estadístico y visualización. Es especialmente apreciado por su capacidad para realizar análisis exploratorio de datos y modelado estadístico.\n",
    "\n",
    "3. **SQL:** Aunque no es un lenguaje de programación en sí mismo, SQL (Structured Query Language) es fundamental para trabajar con bases de datos y realizar consultas.\n",
    "\n"
   ]
  },
  {
   "cell_type": "markdown",
   "metadata": {
    "tags": []
   },
   "source": [
    "## Bibliotecas comunes en Ciencia de Datos\n",
    "\n",
    "Algunas de las bibliotecas más utilizadas por los científicos de datos incluyen:\n",
    "\n",
    "1. **pandas:** pandas es una biblioteca de Python que proporciona estructuras de datos flexibles y herramientas para el análisis y manipulación de datos. Es especialmente útil para trabajar con datos tabulares.\n",
    "\n",
    "2. **numpy:** numpy es otra biblioteca fundamental en Python para cálculos numéricos y operaciones matriciales. Se utiliza ampliamente en álgebra lineal, estadísticas y procesamiento de imágenes.\n",
    "\n",
    "3. **scikit-learn:** scikit-learn es una biblioteca de aprendizaje automático (machine learning) en Python. Proporciona herramientas para clasificación, regresión, agrupación, selección de características y más.\n",
    "\n"
   ]
  },
  {
   "cell_type": "markdown",
   "metadata": {},
   "source": [
    "## Data Science Tools\n",
    "\n",
    "| Herramienta de Código Abierto |\n",
    "| ----------------------------- |\n",
    "| Python                        |\n",
    "| R                             |\n",
    "| SQL                           |\n"
   ]
  },
  {
   "cell_type": "markdown",
   "metadata": {},
   "source": [
    "### Below are a few examples of evaluating arithmetic expressions in Python"
   ]
  },
  {
   "cell_type": "code",
   "execution_count": 1,
   "metadata": {
    "tags": []
   },
   "outputs": [
    {
     "data": {
      "text/plain": [
       "17"
      ]
     },
     "execution_count": 1,
     "metadata": {},
     "output_type": "execute_result"
    }
   ],
   "source": [
    "# This a simple arithmetic expression to mutiply then add integers\n",
    "(3*4)+5"
   ]
  },
  {
   "cell_type": "code",
   "execution_count": 2,
   "metadata": {
    "tags": []
   },
   "outputs": [
    {
     "data": {
      "text/plain": [
       "3.3333333333333335"
      ]
     },
     "execution_count": 2,
     "metadata": {},
     "output_type": "execute_result"
    }
   ],
   "source": [
    "# This will convert 200 minutes to hours by diving by 60\n",
    "200/60"
   ]
  },
  {
   "cell_type": "markdown",
   "metadata": {},
   "source": [
    "### Objetivos:\n",
    "\n",
    "- **Enumerar los lenguajes populares utilizados en Ciencia de Datos.**\n",
    "- **Destacar las bibliotecas comunes utilizadas por los científicos de datos.**\n",
    "- **Proporcionar ejemplos de evaluación de expresiones aritméticas en Python.**\n"
   ]
  },
  {
   "cell_type": "markdown",
   "metadata": {},
   "source": [
    "## Author\n",
    "\n",
    "Jairo Rodríguez Calume\n"
   ]
  },
  {
   "cell_type": "code",
   "execution_count": null,
   "metadata": {},
   "outputs": [],
   "source": []
  }
 ],
 "metadata": {
  "kernelspec": {
   "display_name": "Python",
   "language": "python",
   "name": "conda-env-python-py"
  },
  "language_info": {
   "codemirror_mode": {
    "name": "ipython",
    "version": 3
   },
   "file_extension": ".py",
   "mimetype": "text/x-python",
   "name": "python",
   "nbconvert_exporter": "python",
   "pygments_lexer": "ipython3",
   "version": "3.7.12"
  }
 },
 "nbformat": 4,
 "nbformat_minor": 4
}
